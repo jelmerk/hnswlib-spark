{
  "nbformat": 4,
  "nbformat_minor": 0,
  "metadata": {
    "colab": {
      "name": "hnswlib.ipynb",
      "provenance": [],
      "collapsed_sections": []
    },
    "kernelspec": {
      "name": "python3",
      "display_name": "Python 3"
    },
    "language_info": {
      "name": "python"
    }
  },
  "cells": [
    {
      "cell_type": "markdown",
      "source": [
        "# HnswLib Quick Start\n",
        "\n",
        "\n",
        "[![Open In Colab](https://colab.research.google.com/assets/colab-badge.svg)](https://colab.research.google.com/github/jelmerk/hnswlib/blob/master/hnswlib-examples/hnswlib-examples-pyspark-google-colab/quick_start_google_colab.ipynb)\n",
        "\n",
        "We will first set up the runtime environment and give it a quick test"
      ],
      "metadata": {
        "id": "NtnuPdiDyN8_"
      }
    },
    {
      "cell_type": "code",
      "execution_count": null,
      "metadata": {
        "colab": {
          "base_uri": "https://localhost:8080/"
        },
        "id": "F0u73ufErwpG",
        "outputId": "15bde5ea-bdb7-4e23-d74d-75f4ff851fab"
      },
      "outputs": [
        {
          "output_type": "stream",
          "name": "stdout",
          "text": [
            "--2022-01-08 02:32:40--  https://raw.githubusercontent.com/jelmerk/hnswlib/master/scripts/colab_setup.sh\n",
            "Resolving raw.githubusercontent.com (raw.githubusercontent.com)... 185.199.109.133, 185.199.111.133, 185.199.110.133, ...\n",
            "Connecting to raw.githubusercontent.com (raw.githubusercontent.com)|185.199.109.133|:443... connected.\n",
            "HTTP request sent, awaiting response... 200 OK\n",
            "Length: 1269 (1.2K) [text/plain]\n",
            "Saving to: ‘STDOUT’\n",
            "\n",
            "-                   100%[===================>]   1.24K  --.-KB/s    in 0s      \n",
            "\n",
            "2022-01-08 02:32:41 (73.4 MB/s) - written to stdout [1269/1269]\n",
            "\n",
            "setup Colab for PySpark 3.0.3 and Hnswlib 1.0.0\n",
            "Installing PySpark 3.0.3 and Hnswlib 1.0.0\n",
            "\u001b[K     |████████████████████████████████| 209.1 MB 73 kB/s \n",
            "\u001b[K     |████████████████████████████████| 198 kB 80.2 MB/s \n",
            "\u001b[?25h  Building wheel for pyspark (setup.py) ... \u001b[?25l\u001b[?25hdone\n"
          ]
        }
      ],
      "source": [
        "!wget https://raw.githubusercontent.com/jelmerk/hnswlib/master/scripts/colab_setup.sh -O - | bash"
      ]
    },
    {
      "cell_type": "code",
      "source": [
        "import pyspark_hnsw\n",
        "\n",
        "from pyspark.ml import Pipeline\n",
        "from pyspark_hnsw.knn import *\n",
        "from pyspark.ml.feature import HashingTF, IDF, Tokenizer\n",
        "from pyspark.sql.functions import col, posexplode"
      ],
      "metadata": {
        "id": "nO6TiznusZ2y"
      },
      "execution_count": null,
      "outputs": []
    },
    {
      "cell_type": "code",
      "source": [
        "spark = pyspark_hnsw.start()"
      ],
      "metadata": {
        "id": "Y9KKKcZlscZF"
      },
      "execution_count": null,
      "outputs": []
    },
    {
      "cell_type": "code",
      "source": [
        "print(\"Hnswlib version: {}\".format(pyspark_hnsw.version()))\n",
        "print(\"Apache Spark version: {}\".format(spark.version))"
      ],
      "metadata": {
        "colab": {
          "base_uri": "https://localhost:8080/"
        },
        "id": "CJ2xbiCosydF",
        "outputId": "baa771e6-5761-4a4d-fc26-22044aa6aeb5"
      },
      "execution_count": null,
      "outputs": [
        {
          "output_type": "stream",
          "name": "stdout",
          "text": [
            "Hnswlib version: 1.0.0\n",
            "Apache Spark version: 3.0.3\n"
          ]
        }
      ]
    },
    {
      "cell_type": "markdown",
      "source": [
        "Load the product data from the [instacart market basket analysis kaggle competition ](https://www.kaggle.com/c/instacart-market-basket-analysis/data?select=products.csv.zip)"
      ],
      "metadata": {
        "id": "nIYBMlF9i6cR"
      }
    },
    {
      "cell_type": "code",
      "source": [
        "!wget -O /tmp/products.csv \"https://drive.google.com/uc?export=download&id=1iIF7QpTyuUGYG7lquP7NkplYC9n8Gxuz\""
      ],
      "metadata": {
        "colab": {
          "base_uri": "https://localhost:8080/"
        },
        "id": "hOBkUPYO1Zpa",
        "outputId": "f003f2ee-bb8c-4b56-a475-a980c992d9da"
      },
      "execution_count": null,
      "outputs": [
        {
          "output_type": "stream",
          "name": "stdout",
          "text": [
            "--2022-01-08 03:58:45--  https://drive.google.com/uc?export=download&id=1iIF7QpTyuUGYG7lquP7NkplYC9n8Gxuz\n",
            "Resolving drive.google.com (drive.google.com)... 173.194.79.100, 173.194.79.102, 173.194.79.101, ...\n",
            "Connecting to drive.google.com (drive.google.com)|173.194.79.100|:443... connected.\n",
            "HTTP request sent, awaiting response... 302 Moved Temporarily\n",
            "Location: https://doc-10-b4-docs.googleusercontent.com/docs/securesc/ha0ro937gcuc7l7deffksulhg5h7mbp1/4nf11kob2m4ai6bvlueodufo0oocm0t2/1641614325000/16131524327083715076/*/1iIF7QpTyuUGYG7lquP7NkplYC9n8Gxuz?e=download [following]\n",
            "Warning: wildcards not supported in HTTP.\n",
            "--2022-01-08 03:58:45--  https://doc-10-b4-docs.googleusercontent.com/docs/securesc/ha0ro937gcuc7l7deffksulhg5h7mbp1/4nf11kob2m4ai6bvlueodufo0oocm0t2/1641614325000/16131524327083715076/*/1iIF7QpTyuUGYG7lquP7NkplYC9n8Gxuz?e=download\n",
            "Resolving doc-10-b4-docs.googleusercontent.com (doc-10-b4-docs.googleusercontent.com)... 108.177.127.132, 2a00:1450:4013:c07::84\n",
            "Connecting to doc-10-b4-docs.googleusercontent.com (doc-10-b4-docs.googleusercontent.com)|108.177.127.132|:443... connected.\n",
            "HTTP request sent, awaiting response... 200 OK\n",
            "Length: 2166953 (2.1M) [text/csv]\n",
            "Saving to: ‘/tmp/products.csv’\n",
            "\n",
            "/tmp/products.csv   100%[===================>]   2.07M  --.-KB/s    in 0.01s   \n",
            "\n",
            "2022-01-08 03:58:45 (159 MB/s) - ‘/tmp/products.csv’ saved [2166953/2166953]\n",
            "\n"
          ]
        }
      ]
    },
    {
      "cell_type": "code",
      "source": [
        "productData = spark.read.option(\"header\", \"true\").csv(\"/tmp/products.csv\")"
      ],
      "metadata": {
        "id": "oKodvLC6xwO6"
      },
      "execution_count": null,
      "outputs": []
    },
    {
      "cell_type": "code",
      "source": [
        "productData.count()"
      ],
      "metadata": {
        "colab": {
          "base_uri": "https://localhost:8080/"
        },
        "id": "q4C7HS1LQDcE",
        "outputId": "f0b73205-ae29-4218-bd0e-81eb89fc3c4e"
      },
      "execution_count": null,
      "outputs": [
        {
          "output_type": "execute_result",
          "data": {
            "text/plain": [
              "49688"
            ]
          },
          "metadata": {},
          "execution_count": 22
        }
      ]
    },
    {
      "cell_type": "code",
      "source": [
        "tokenizer = Tokenizer(inputCol=\"product_name\", outputCol=\"words\")\n",
        "hashingTF = HashingTF(inputCol=\"words\", outputCol=\"rawFeatures\")\n",
        "idf = IDF(inputCol=\"rawFeatures\", outputCol=\"features\")"
      ],
      "metadata": {
        "id": "Zq2yRJevnRGS"
      },
      "execution_count": null,
      "outputs": []
    },
    {
      "cell_type": "markdown",
      "source": [
        "Create a simple TF / IDF model that turns product names into sparse word vectors and adds them to an exact knn index. \n",
        "\n",
        "An exact or brute force index will give 100% correct, will be quick to index but really slow to query and is only appropriate during development or for doing comparissons against an approximate index"
      ],
      "metadata": {
        "id": "S3OkoohFo2IA"
      }
    },
    {
      "cell_type": "code",
      "source": [
        "bruteforce = BruteForceSimilarity(identifierCol='product_id', queryIdentifierCol='product_id', k = 5, featuresCol='features', distanceFunction='cosine', excludeSelf=True, numPartitions=10)"
      ],
      "metadata": {
        "id": "ReyTZSM1uT2q"
      },
      "execution_count": null,
      "outputs": []
    },
    {
      "cell_type": "code",
      "source": [
        "exact_pipeline = Pipeline(stages=[tokenizer, hashingTF, idf, bruteforce])"
      ],
      "metadata": {
        "id": "20wtg6ZhHpwx"
      },
      "execution_count": null,
      "outputs": []
    },
    {
      "cell_type": "code",
      "source": [
        "exact_model = exact_pipeline.fit(productData)"
      ],
      "metadata": {
        "id": "Ln1aIrdyJRoL"
      },
      "execution_count": null,
      "outputs": []
    },
    {
      "cell_type": "markdown",
      "source": [
        "Next create the same model but add the TF / IDF vectors to a HNSW index"
      ],
      "metadata": {
        "id": "cot3ByIOpwwZ"
      }
    },
    {
      "cell_type": "code",
      "source": [
        "hnsw = HnswSimilarity(identifierCol='product_id', queryIdentifierCol='product_id', featuresCol='features',\n",
        "                      distanceFunction='cosine', numPartitions=10, excludeSelf=True, k = 5)"
      ],
      "metadata": {
        "id": "7zLQLVreqWRM"
      },
      "execution_count": null,
      "outputs": []
    },
    {
      "cell_type": "code",
      "source": [
        "hnsw_pipeline = Pipeline(stages=[tokenizer, hashingTF, idf, hnsw])"
      ],
      "metadata": {
        "id": "mUlvwo89qEJm"
      },
      "execution_count": null,
      "outputs": []
    },
    {
      "cell_type": "code",
      "source": [
        "hnsw_model = hnsw_pipeline.fit(productData)"
      ],
      "metadata": {
        "id": "dwOkEFmxqeR2"
      },
      "execution_count": null,
      "outputs": []
    },
    {
      "cell_type": "markdown",
      "source": [
        "Select a record to query"
      ],
      "metadata": {
        "id": "MQSYgEgHlg65"
      }
    },
    {
      "cell_type": "code",
      "source": [
        "queries = productData.filter(col(\"product_id\") == 43572)"
      ],
      "metadata": {
        "id": "vCag3tH-NUf-"
      },
      "execution_count": null,
      "outputs": []
    },
    {
      "cell_type": "code",
      "source": [
        "queries.show(truncate = False)"
      ],
      "metadata": {
        "colab": {
          "base_uri": "https://localhost:8080/"
        },
        "id": "pcUCCFxzQ02H",
        "outputId": "8721ba75-f5d2-493e-a36c-d182e97a3bd0"
      },
      "execution_count": null,
      "outputs": [
        {
          "output_type": "stream",
          "name": "stdout",
          "text": [
            "+----------+-----------------------------+--------+-------------+\n",
            "|product_id|product_name                 |aisle_id|department_id|\n",
            "+----------+-----------------------------+--------+-------------+\n",
            "|43572     |Alcaparrado Manzanilla Olives|110     |13           |\n",
            "+----------+-----------------------------+--------+-------------+\n",
            "\n"
          ]
        }
      ]
    },
    {
      "cell_type": "markdown",
      "source": [
        "Show the results from the exact model"
      ],
      "metadata": {
        "id": "qbcUGq4irTFH"
      }
    },
    {
      "cell_type": "code",
      "source": [
        "exact_model.transform(queries) \\\n",
        "  .select(posexplode(col(\"prediction\")).alias(\"pos\", \"item\")) \\\n",
        "  .select(col(\"pos\"), col(\"item.neighbor\").alias(\"product_id\"), col(\"item.distance\").alias(\"distance\")) \\\n",
        "  .join(productData, [\"product_id\"]) \\\n",
        "  .show(truncate=False)"
      ],
      "metadata": {
        "colab": {
          "base_uri": "https://localhost:8080/"
        },
        "id": "q4wi29adOLRX",
        "outputId": "1b06735b-8db4-4c4f-fe16-7d1aad02ea6d"
      },
      "execution_count": null,
      "outputs": [
        {
          "output_type": "stream",
          "name": "stdout",
          "text": [
            "+----------+---+-------------------+----------------------------------+--------+-------------+\n",
            "|product_id|pos|distance           |product_name                      |aisle_id|department_id|\n",
            "+----------+---+-------------------+----------------------------------+--------+-------------+\n",
            "|27806     |0  |0.2961162117528633 |Manzanilla Olives                 |110     |13           |\n",
            "|25125     |1  |0.40715716898722976|Stuffed Manzanilla Olives         |110     |13           |\n",
            "|16721     |2  |0.40715716898722976|Manzanilla Stuffed Olives         |110     |13           |\n",
            "|39833     |3  |0.49516580877903393|Pimiento Sliced Manzanilla Olives |110     |13           |\n",
            "|33495     |4  |0.514201828085252  |Manzanilla Pimiento Stuffed Olives|110     |13           |\n",
            "+----------+---+-------------------+----------------------------------+--------+-------------+\n",
            "\n"
          ]
        }
      ]
    },
    {
      "cell_type": "markdown",
      "source": [
        "Show the results from the hnsw model"
      ],
      "metadata": {
        "id": "JxHQ10aAr0MQ"
      }
    },
    {
      "cell_type": "code",
      "source": [
        "hnsw_model.transform(queries) \\\n",
        "  .select(posexplode(col(\"prediction\")).alias(\"pos\", \"item\")) \\\n",
        "  .select(col(\"pos\"), col(\"item.neighbor\").alias(\"product_id\"), col(\"item.distance\").alias(\"distance\")) \\\n",
        "  .join(productData, [\"product_id\"]) \\\n",
        "  .show(truncate=False)"
      ],
      "metadata": {
        "colab": {
          "base_uri": "https://localhost:8080/"
        },
        "id": "PupolEF6P0jc",
        "outputId": "9c0ce36d-32ae-4494-d277-6a7246a17588"
      },
      "execution_count": null,
      "outputs": [
        {
          "output_type": "stream",
          "name": "stdout",
          "text": [
            "+----------+---+-------------------+----------------------------------+--------+-------------+\n",
            "|product_id|pos|distance           |product_name                      |aisle_id|department_id|\n",
            "+----------+---+-------------------+----------------------------------+--------+-------------+\n",
            "|27806     |0  |0.2961162117528633 |Manzanilla Olives                 |110     |13           |\n",
            "|25125     |1  |0.40715716898722976|Stuffed Manzanilla Olives         |110     |13           |\n",
            "|16721     |2  |0.40715716898722976|Manzanilla Stuffed Olives         |110     |13           |\n",
            "|33495     |3  |0.514201828085252  |Manzanilla Pimiento Stuffed Olives|110     |13           |\n",
            "|41472     |4  |0.514201828085252  |Pimiento Stuffed Manzanilla Olives|110     |13           |\n",
            "+----------+---+-------------------+----------------------------------+--------+-------------+\n",
            "\n"
          ]
        }
      ]
    }
  ]
}