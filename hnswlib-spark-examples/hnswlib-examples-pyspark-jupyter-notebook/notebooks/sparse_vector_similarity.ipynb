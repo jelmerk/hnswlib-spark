{
 "cells": [
  {
   "cell_type": "code",
   "execution_count": 6,
   "metadata": {},
   "outputs": [],
   "source": [
    "from pyspark.sql import SparkSession\n",
    "from pyspark_hnsw.knn import *\n",
    "import boto3\n",
    "import pyspark_hnsw\n",
    "import requests\n",
    "\n",
    "from pyspark.ml import Pipeline\n",
    "from pyspark_hnsw.knn import *\n",
    "from pyspark.ml.feature import HashingTF, IDF, Tokenizer\n",
    "from pyspark.sql.functions import col, posexplode\n",
    "\n",
    "spark = SparkSession.builder \\\n",
    "        .master(\"spark://spark-master:7077\") \\\n",
    "        .config(\"spark.jars.packages\", \"com.github.jelmerk:hnswlib-spark_3_5_2.12:2.0.0-alpha.8,io.delta:delta-spark_2.12:3.3.0\") \\\n",
    "        .config(\"spark.sql.extensions\", \"io.delta.sql.DeltaSparkSessionExtension\") \\\n",
    "        .config(\"spark.sql.catalog.spark_catalog\", \"org.apache.spark.sql.delta.catalog.DeltaCatalog\") \\\n",
    "        .config(\"spark.ui.showConsoleProgress\", \"false\") \\\n",
    "        .getOrCreate()\n",
    "\n",
    "spark.sparkContext.setLogLevel(\"ERROR\")"
   ]
  },
  {
   "cell_type": "code",
   "execution_count": 7,
   "metadata": {},
   "outputs": [
    {
     "name": "stdout",
     "output_type": "stream",
     "text": [
      "3.5.4\n",
      "2.0.0a2\n"
     ]
    }
   ],
   "source": [
    "print(spark.version)\n",
    "print(pyspark_hnsw.version())"
   ]
  },
  {
   "cell_type": "markdown",
   "metadata": {},
   "source": [
    "Load the product data from the [instacart market basket analysis kaggle competition ](https://www.kaggle.com/c/instacart-market-basket-analysis/data?select=products.csv.zip)\n"
   ]
  },
  {
   "cell_type": "code",
   "execution_count": 8,
   "metadata": {},
   "outputs": [],
   "source": [
    "url = \"https://drive.google.com/uc?export=download&id=1iIF7QpTyuUGYG7lquP7NkplYC9n8Gxuz\"\n",
    "response = requests.get(url, stream=True)\n",
    "\n",
    "s3 = boto3.client(\"s3\")\n",
    "s3.upload_fileobj(response.raw,  \"spark\", \"sparse_vector_input/products.csv\")"
   ]
  },
  {
   "cell_type": "code",
   "execution_count": 9,
   "metadata": {},
   "outputs": [],
   "source": [
    "product_df = spark.read.option(\"header\", \"true\").csv(\"s3a://spark/sparse_vector_input/products.csv\")"
   ]
  },
  {
   "cell_type": "code",
   "execution_count": 10,
   "metadata": {},
   "outputs": [
    {
     "data": {
      "text/plain": [
       "49688"
      ]
     },
     "execution_count": 10,
     "metadata": {},
     "output_type": "execute_result"
    }
   ],
   "source": [
    "product_df.count()"
   ]
  },
  {
   "cell_type": "code",
   "execution_count": 11,
   "metadata": {},
   "outputs": [],
   "source": [
    "tokenizer = Tokenizer(inputCol=\"product_name\", outputCol=\"words\")\n",
    "hashingTF = HashingTF(inputCol=\"words\", outputCol=\"rawFeatures\")\n",
    "idf = IDF(inputCol=\"rawFeatures\", outputCol=\"features\")"
   ]
  },
  {
   "cell_type": "markdown",
   "metadata": {},
   "source": [
    "Create a simple TF / IDF model that turns product names into sparse word vectors and adds them to an exact knn index. \n",
    "\n",
    "An exact or brute force index will give 100% correct, will be quick to index but really slow to query and is only appropriate during development or for doing comparissons against an approximate index\n"
   ]
  },
  {
   "cell_type": "code",
   "execution_count": 12,
   "metadata": {},
   "outputs": [],
   "source": [
    "bruteforce = BruteForceSimilarity(\n",
    "    identifierCol='product_id', \n",
    "    featuresCol='features', \n",
    "    distanceFunction='cosine', \n",
    "    numPartitions=1,\n",
    "    numThreads=1,\n",
    "    k = 5\n",
    ")"
   ]
  },
  {
   "cell_type": "code",
   "execution_count": 13,
   "metadata": {},
   "outputs": [],
   "source": [
    "exact_pipeline = Pipeline(stages=[tokenizer, hashingTF, idf, bruteforce])"
   ]
  },
  {
   "cell_type": "code",
   "execution_count": 14,
   "metadata": {},
   "outputs": [],
   "source": [
    "exact_model = exact_pipeline.fit(product_df)"
   ]
  },
  {
   "cell_type": "markdown",
   "metadata": {},
   "source": [
    "Next create the same model but add the TF / IDF vectors to a HNSW index"
   ]
  },
  {
   "cell_type": "code",
   "execution_count": 15,
   "metadata": {},
   "outputs": [],
   "source": [
    "hnsw = HnswSimilarity(\n",
    "    identifierCol='product_id', \n",
    "    featuresCol='features',\n",
    "    distanceFunction='cosine', \n",
    "    numPartitions=1, \n",
    "    numThreads=2, \n",
    "    k = 5\n",
    ")"
   ]
  },
  {
   "cell_type": "code",
   "execution_count": 16,
   "metadata": {},
   "outputs": [],
   "source": [
    "hnsw_pipeline = Pipeline(stages=[tokenizer, hashingTF, idf, hnsw])"
   ]
  },
  {
   "cell_type": "code",
   "execution_count": 17,
   "metadata": {},
   "outputs": [],
   "source": [
    "hnsw_model = hnsw_pipeline.fit(product_df)"
   ]
  },
  {
   "cell_type": "markdown",
   "metadata": {},
   "source": [
    "Select a record to query"
   ]
  },
  {
   "cell_type": "code",
   "execution_count": 18,
   "metadata": {},
   "outputs": [],
   "source": [
    "queries = product_df.filter(col(\"product_id\") == 43572)"
   ]
  },
  {
   "cell_type": "code",
   "execution_count": 19,
   "metadata": {},
   "outputs": [
    {
     "name": "stdout",
     "output_type": "stream",
     "text": [
      "+----------+-----------------------------+--------+-------------+\n",
      "|product_id|product_name                 |aisle_id|department_id|\n",
      "+----------+-----------------------------+--------+-------------+\n",
      "|43572     |Alcaparrado Manzanilla Olives|110     |13           |\n",
      "+----------+-----------------------------+--------+-------------+\n",
      "\n"
     ]
    }
   ],
   "source": [
    "queries.show(truncate=False)"
   ]
  },
  {
   "cell_type": "code",
   "execution_count": 20,
   "metadata": {},
   "outputs": [
    {
     "name": "stdout",
     "output_type": "stream",
     "text": [
      "+----------+---+----------------------+---------------------------------+--------+-------------+\n",
      "|product_id|pos|distance              |product_name                     |aisle_id|department_id|\n",
      "+----------+---+----------------------+---------------------------------+--------+-------------+\n",
      "|43572     |0  |-2.220446049250313E-16|Alcaparrado Manzanilla Olives    |110     |13           |\n",
      "|27806     |1  |0.2961162117528633    |Manzanilla Olives                |110     |13           |\n",
      "|16721     |2  |0.40715716898722976   |Manzanilla Stuffed Olives        |110     |13           |\n",
      "|25125     |3  |0.40715716898722976   |Stuffed Manzanilla Olives        |110     |13           |\n",
      "|39833     |4  |0.49516580877903393   |Pimiento Sliced Manzanilla Olives|110     |13           |\n",
      "+----------+---+----------------------+---------------------------------+--------+-------------+\n",
      "\n"
     ]
    }
   ],
   "source": [
    "exact_model.transform(queries) \\\n",
    "  .select(posexplode(col(\"prediction\")).alias(\"pos\", \"item\")) \\\n",
    "  .select(col(\"pos\"), col(\"item.neighbor\").alias(\"product_id\"), col(\"item.distance\").alias(\"distance\")) \\\n",
    "  .join(product_df, [\"product_id\"]) \\\n",
    "  .orderBy([\"pos\"]) \\\n",
    "  .show(truncate=False)"
   ]
  },
  {
   "cell_type": "markdown",
   "metadata": {},
   "source": [
    "Show the results from the hnsw model"
   ]
  },
  {
   "cell_type": "code",
   "execution_count": 21,
   "metadata": {},
   "outputs": [
    {
     "name": "stdout",
     "output_type": "stream",
     "text": [
      "+----------+---+----------------------+---------------------------------+--------+-------------+\n",
      "|product_id|pos|distance              |product_name                     |aisle_id|department_id|\n",
      "+----------+---+----------------------+---------------------------------+--------+-------------+\n",
      "|43572     |0  |-2.220446049250313E-16|Alcaparrado Manzanilla Olives    |110     |13           |\n",
      "|27806     |1  |0.2961162117528633    |Manzanilla Olives                |110     |13           |\n",
      "|16721     |2  |0.40715716898722976   |Manzanilla Stuffed Olives        |110     |13           |\n",
      "|25125     |3  |0.40715716898722976   |Stuffed Manzanilla Olives        |110     |13           |\n",
      "|39833     |4  |0.49516580877903393   |Pimiento Sliced Manzanilla Olives|110     |13           |\n",
      "+----------+---+----------------------+---------------------------------+--------+-------------+\n",
      "\n"
     ]
    }
   ],
   "source": [
    "hnsw_model.transform(queries) \\\n",
    "  .select(posexplode(col(\"prediction\")).alias(\"pos\", \"item\")) \\\n",
    "  .select(col(\"pos\"), col(\"item.neighbor\").alias(\"product_id\"), col(\"item.distance\").alias(\"distance\")) \\\n",
    "  .join(product_df, [\"product_id\"]) \\\n",
    "  .orderBy([\"pos\"]) \\\n",
    "  .show(truncate=False)"
   ]
  },
  {
   "cell_type": "markdown",
   "metadata": {},
   "source": [
    "Dispose of the resources held on to by the models"
   ]
  },
  {
   "cell_type": "code",
   "execution_count": 22,
   "metadata": {},
   "outputs": [],
   "source": [
    "[_, _, _, hnsw]= hnsw_model.stages\n",
    "hnsw.dispose()"
   ]
  },
  {
   "cell_type": "code",
   "execution_count": 23,
   "metadata": {},
   "outputs": [],
   "source": [
    "[_, _, _, bruteforce]= exact_model.stages\n",
    "bruteforce.dispose()"
   ]
  },
  {
   "cell_type": "code",
   "execution_count": null,
   "metadata": {},
   "outputs": [],
   "source": []
  }
 ],
 "metadata": {
  "kernelspec": {
   "display_name": ".venv",
   "language": "python",
   "name": "python3"
  },
  "language_info": {
   "codemirror_mode": {
    "name": "ipython",
    "version": 3
   },
   "file_extension": ".py",
   "mimetype": "text/x-python",
   "name": "python",
   "nbconvert_exporter": "python",
   "pygments_lexer": "ipython3",
   "version": "3.12.8"
  }
 },
 "nbformat": 4,
 "nbformat_minor": 2
}
